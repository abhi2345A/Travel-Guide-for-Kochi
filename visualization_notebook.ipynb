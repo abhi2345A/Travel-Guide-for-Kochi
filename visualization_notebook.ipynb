{
 "cells": [
  {
   "cell_type": "code",
   "execution_count": 1,
   "metadata": {
    "_cell_guid": "b1076dfc-b9ad-4769-8c92-a6c4dae69d19",
    "_uuid": "8f2839f25d086af736a60e9eeb907d3b93b6e0e5",
    "collapsed": true
   },
   "outputs": [],
   "source": [
    "\n",
    "import numpy as np # linear algebra\n",
    "import pandas as pd # data processing, CSV file I/O (e.g. pd.read_csv)\n",
    "\n",
    "\n",
    "\n",
    "import folium\n",
    "\n"
   ]
  },
  {
   "cell_type": "code",
   "execution_count": 2,
   "metadata": {
    "_cell_guid": "79c7e3d0-c299-4dcb-8224-4455121ee9b0",
    "_uuid": "d629ff2d2480ee46fbb7e2d37f6b5fab8052498a",
    "collapsed": true
   },
   "outputs": [],
   "source": [
    "map_hooray = folium.Map(location=[10.15333272,76.388165114],\n",
    "                    zoom_start = 11)\n",
    "#start = [10.076833,76.3184006]\n",
    "#start = [10.15333272,76.3881651]\n",
    "start = [10.0924561,76.3711234]\n",
    "#start = [10.,76.]"
   ]
  },
  {
   "cell_type": "code",
   "execution_count": null,
   "metadata": {
    "collapsed": true
   },
   "outputs": [],
   "source": []
  },
  {
   "cell_type": "code",
   "execution_count": 3,
   "metadata": {
    "_uuid": "2ddde67d627a919a2ea96bdb036a267afe15a8ee",
    "scrolled": true
   },
   "outputs": [
    {
     "data": {
      "text/html": [
       "<div style=\"width:100%;\"><div style=\"position:relative;width:100%;height:0;padding-bottom:60%;\"><iframe src=\"data:text/html;charset=utf-8;base64,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\" style=\"position:absolute;width:100%;height:100%;left:0;top:0;border:none !important;\" allowfullscreen webkitallowfullscreen mozallowfullscreen></iframe></div></div>"
      ],
      "text/plain": [
       "<folium.folium.Map at 0x21f56582cf8>"
      ]
     },
     "execution_count": 3,
     "metadata": {},
     "output_type": "execute_result"
    }
   ],
   "source": [
    "folium.Marker([10.15333272,76.388165114], popup='Kochi Airport').add_to(map_hooray)\n",
    "\n",
    "map_hooray"
   ]
  },
  {
   "cell_type": "code",
   "execution_count": 4,
   "metadata": {
    "_uuid": "1eaf35f0602db9a7922d8792ffb6742d67432051",
    "collapsed": true
   },
   "outputs": [],
   "source": [
    "accomodation = pd.read_csv('non-mobility/Accommodation.csv')"
   ]
  },
  {
   "cell_type": "code",
   "execution_count": 5,
   "metadata": {
    "_uuid": "80bcf9a60d6f4d89adc89362c4f4d801ac57dbe4"
   },
   "outputs": [
    {
     "data": {
      "text/html": [
       "<div>\n",
       "<style>\n",
       "    .dataframe thead tr:only-child th {\n",
       "        text-align: right;\n",
       "    }\n",
       "\n",
       "    .dataframe thead th {\n",
       "        text-align: left;\n",
       "    }\n",
       "\n",
       "    .dataframe tbody tr th {\n",
       "        vertical-align: top;\n",
       "    }\n",
       "</style>\n",
       "<table border=\"1\" class=\"dataframe\">\n",
       "  <thead>\n",
       "    <tr style=\"text-align: right;\">\n",
       "      <th></th>\n",
       "      <th>Name</th>\n",
       "      <th>Category</th>\n",
       "      <th>Latitude</th>\n",
       "      <th>Longitude</th>\n",
       "    </tr>\n",
       "  </thead>\n",
       "  <tbody>\n",
       "    <tr>\n",
       "      <th>0</th>\n",
       "      <td>Abrahams Villa</td>\n",
       "      <td>hostel</td>\n",
       "      <td>9.982084</td>\n",
       "      <td>76.296408</td>\n",
       "    </tr>\n",
       "    <tr>\n",
       "      <th>1</th>\n",
       "      <td>Alakananda</td>\n",
       "      <td>hostel</td>\n",
       "      <td>10.046265</td>\n",
       "      <td>76.325132</td>\n",
       "    </tr>\n",
       "    <tr>\n",
       "      <th>2</th>\n",
       "      <td>Aroma Home Stay</td>\n",
       "      <td>hostel</td>\n",
       "      <td>9.960061</td>\n",
       "      <td>76.240745</td>\n",
       "    </tr>\n",
       "    <tr>\n",
       "      <th>3</th>\n",
       "      <td>Dream Paradise Hostel</td>\n",
       "      <td>hostel</td>\n",
       "      <td>9.964001</td>\n",
       "      <td>76.244777</td>\n",
       "    </tr>\n",
       "    <tr>\n",
       "      <th>4</th>\n",
       "      <td>El casa</td>\n",
       "      <td>hostel</td>\n",
       "      <td>9.955829</td>\n",
       "      <td>76.241450</td>\n",
       "    </tr>\n",
       "  </tbody>\n",
       "</table>\n",
       "</div>"
      ],
      "text/plain": [
       "                    Name Category  Latitude   Longitude\n",
       "0         Abrahams Villa   hostel   9.982084  76.296408\n",
       "1             Alakananda   hostel  10.046265  76.325132\n",
       "2        Aroma Home Stay   hostel   9.960061  76.240745\n",
       "3  Dream Paradise Hostel   hostel   9.964001  76.244777\n",
       "4                El casa   hostel   9.955829  76.241450"
      ]
     },
     "execution_count": 5,
     "metadata": {},
     "output_type": "execute_result"
    }
   ],
   "source": [
    "accomodation.head(5)"
   ]
  },
  {
   "cell_type": "code",
   "execution_count": 6,
   "metadata": {
    "_uuid": "819466b7f3450ab33689b36fa151e516b991377b",
    "collapsed": true
   },
   "outputs": [],
   "source": [
    "from math import cos, asin, sqrt\n",
    "def distance(lat1, lon1, lat2, lon2):\n",
    "    p = 0.017453292519943295     #Pi/180\n",
    "    a = 0.5 - cos((lat2 - lat1) * p)/2 + cos(lat1 * p) * cos(lat2 * p) * (1 - cos((lon2 - lon1) * p)) / 2\n",
    "    return 12742 * asin(sqrt(a)) #2*R*asin..."
   ]
  },
  {
   "cell_type": "code",
   "execution_count": 7,
   "metadata": {
    "_uuid": "68fc5d3d6c876f3165b3acbe4c139e47e24c5475",
    "collapsed": true
   },
   "outputs": [],
   "source": [
    "col_name =accomodation.columns[2]\n",
    "accomodation=accomodation.rename(columns = {col_name:'Lat'})\n"
   ]
  },
  {
   "cell_type": "code",
   "execution_count": 8,
   "metadata": {
    "_uuid": "98f9006f1b34b457e8dcb92a127356ffc31b8549"
   },
   "outputs": [
    {
     "name": "stdout",
     "output_type": "stream",
     "text": [
      "[10.107858300000002, 76.3570147]\n"
     ]
    }
   ],
   "source": [
    "minacc = [0,0]\n",
    "distanc = float(\"inf\")\n",
    "for i in accomodation.index:\n",
    "    #print(accomodation.iloc[i,2],accomodation.iloc[i,3])\n",
    "    Final_dist = distance(start[0],start[1],accomodation.iloc[i,2],accomodation.iloc[i,3])\n",
    "    if Final_dist<distanc:\n",
    "        minacc[0] = accomodation.iloc[i,2]\n",
    "        minacc[1] = accomodation.iloc[i,3]\n",
    "        (name,category) = (accomodation.iloc[i,0],accomodation.iloc[i,1])\n",
    "        distanc = Final_dist\n",
    "        \n",
    "print(minacc)"
   ]
  },
  {
   "cell_type": "code",
   "execution_count": 9,
   "metadata": {
    "_uuid": "31cc5d01ad119442ddcd2c8d8822d63549439c78",
    "collapsed": true
   },
   "outputs": [],
   "source": [
    "ferry_routes  = pd.read_csv('Mobility/Ferry/Routes.csv')\n",
    "ferry_sched = pd.read_csv('Mobility/Ferry/Schedules.csv')\n",
    "ferry_stops = pd.read_csv('Mobility/Ferry/Stop_Locations.csv')\n",
    "ferry_Trips = pd.read_csv('Mobility/Ferry/Trips.csv')"
   ]
  },
  {
   "cell_type": "code",
   "execution_count": 10,
   "metadata": {
    "_uuid": "8131beeb9564e079ade9f1d646c4ed3fce3f601d"
   },
   "outputs": [
    {
     "name": "stdout",
     "output_type": "stream",
     "text": [
      "10.294895502449927\n",
      "[10.068833, 76.2802]\n",
      "*\n",
      "[10.068833, 76.2802]\n"
     ]
    }
   ],
   "source": [
    "source_ferry = [0,0]\n",
    "destination_ferry =[0,0]\n",
    "distanc = float(\"inf\")\n",
    "for i in ferry_stops.index:\n",
    "    #print(accomodation.iloc[i,2],accomodation.iloc[i,3])\n",
    "    Final_dist = distance(start[0],start[1],ferry_stops.iloc[i,2],ferry_stops.iloc[i,3])\n",
    "    if Final_dist<distanc:\n",
    "        source_ferry[0] = ferry_stops.iloc[i,2]\n",
    "        source_ferry[1] = ferry_stops.iloc[i,3]\n",
    "        (stop_id_s,stop_name_s) = (ferry_stops.iloc[i,0],ferry_stops.iloc[i,1])\n",
    "        distanc = Final_dist\n",
    "print(distanc)\n",
    "print(source_ferry)\n",
    "\n",
    "\n",
    "distanc = float(\"inf\")\n",
    "for i in ferry_stops.index:\n",
    "    #print(accomodation.iloc[i,2],accomodation.iloc[i,3])\n",
    "    Final_dist = distance(minacc[0],minacc[1],ferry_stops.iloc[i,2],ferry_stops.iloc[i,3])\n",
    "    if Final_dist<distanc:\n",
    "        destination_ferry[0] = ferry_stops.iloc[i,2]\n",
    "        destination_ferry[1] = ferry_stops.iloc[i,3]\n",
    "        (stop_id_d,stop_name_d) = (ferry_stops.iloc[i,0],ferry_stops.iloc[i,1])\n",
    "        distanc = Final_dist\n",
    "\n",
    "print('*')\n",
    "print(destination_ferry)\n",
    "\n",
    "#We dont need to find the destination of ferry because source ferry is -1\n"
   ]
  },
  {
   "cell_type": "code",
   "execution_count": 11,
   "metadata": {
    "collapsed": true
   },
   "outputs": [],
   "source": [
    "auto = pd.read_csv('Data_Set_Qualifiers/Mobility/Auto Stands Locations/auto_stands.csv')"
   ]
  },
  {
   "cell_type": "code",
   "execution_count": null,
   "metadata": {
    "collapsed": true
   },
   "outputs": [],
   "source": [
    "\n"
   ]
  },
  {
   "cell_type": "code",
   "execution_count": 12,
   "metadata": {
    "collapsed": true
   },
   "outputs": [],
   "source": [
    "def autoFunction(minVal):\n",
    "    source_auto = [0,0]\n",
    "    destination_auto =[0,0]\n",
    "    distanc = float(\"inf\")\n",
    "    l = []\n",
    "    for i in auto.index:\n",
    "        #print(accomodation.iloc[i,2],accomodation.iloc[i,3])\n",
    "        Final_dist = distance(minVal[0],minVal[1],auto.iloc[i,1],auto.iloc[i,2])\n",
    "        if Final_dist<distanc:\n",
    "            source_auto[0] = auto.iloc[i,1]\n",
    "            source_auto[1] = auto.iloc[i,2]\n",
    "            (Autoname_s) = (auto.iloc[i,0])\n",
    "            distanc = Final_dist\n",
    "    l.append(source_auto[0])\n",
    "    l.append(source_auto[1])\n",
    "    l.append(Autoname_s)\n",
    "    l.append(distanc)\n",
    "    return l\n",
    "    \n"
   ]
  },
  {
   "cell_type": "markdown",
   "metadata": {},
   "source": [
    "0.0\n",
    "[10.076833, 76.31840059999999]\n",
    "***\n",
    "0.19584340546634532\n",
    "[10.0550341, 76.322447]\n",
    "Pathalam ESI auto taxi ------ Kalamassery ITI auto stand\n",
    "​"
   ]
  },
  {
   "cell_type": "code",
   "execution_count": 13,
   "metadata": {},
   "outputs": [
    {
     "name": "stdout",
     "output_type": "stream",
     "text": [
      "[10.1079306, 76.3568123, 'Aluva Railway Station auto taxi stand', 2.3270549120959663]\n",
      "[10.1079306, 76.3568123, 'Aluva Railway Station auto taxi stand', 0.023569966178001722]\n"
     ]
    }
   ],
   "source": [
    "print(autoFunction(start))\n",
    "print(autoFunction(minacc))"
   ]
  },
  {
   "cell_type": "code",
   "execution_count": 14,
   "metadata": {
    "collapsed": true
   },
   "outputs": [],
   "source": [
    "bike = pd.read_csv('Data_Set_Qualifiers/Mobility/Public Bike Share Locations/PBS Stops Excel.csv')"
   ]
  },
  {
   "cell_type": "code",
   "execution_count": 15,
   "metadata": {},
   "outputs": [
    {
     "data": {
      "text/html": [
       "<div>\n",
       "<style>\n",
       "    .dataframe thead tr:only-child th {\n",
       "        text-align: right;\n",
       "    }\n",
       "\n",
       "    .dataframe thead th {\n",
       "        text-align: left;\n",
       "    }\n",
       "\n",
       "    .dataframe tbody tr th {\n",
       "        vertical-align: top;\n",
       "    }\n",
       "</style>\n",
       "<table border=\"1\" class=\"dataframe\">\n",
       "  <thead>\n",
       "    <tr style=\"text-align: right;\">\n",
       "      <th></th>\n",
       "      <th>stop_id</th>\n",
       "      <th>Stop Name</th>\n",
       "      <th>Latitude</th>\n",
       "      <th>Longitude</th>\n",
       "    </tr>\n",
       "  </thead>\n",
       "  <tbody>\n",
       "    <tr>\n",
       "      <th>0</th>\n",
       "      <td>PB001</td>\n",
       "      <td>Fort  Kochi Ro-Ro Boat Jetty</td>\n",
       "      <td>9.968401</td>\n",
       "      <td>76.244678</td>\n",
       "    </tr>\n",
       "    <tr>\n",
       "      <th>1</th>\n",
       "      <td>PB002</td>\n",
       "      <td>Fort Kochi Bus Terminal</td>\n",
       "      <td>9.968067</td>\n",
       "      <td>76.244536</td>\n",
       "    </tr>\n",
       "    <tr>\n",
       "      <th>2</th>\n",
       "      <td>PB003</td>\n",
       "      <td>Chinese Finishing Nets</td>\n",
       "      <td>9.968223</td>\n",
       "      <td>76.242725</td>\n",
       "    </tr>\n",
       "    <tr>\n",
       "      <th>3</th>\n",
       "      <td>PB004</td>\n",
       "      <td>Food Court, Near Beach</td>\n",
       "      <td>9.965376</td>\n",
       "      <td>76.238801</td>\n",
       "    </tr>\n",
       "    <tr>\n",
       "      <th>4</th>\n",
       "      <td>PB005</td>\n",
       "      <td>Beach Parking, near Dutch Cemetery</td>\n",
       "      <td>9.963948</td>\n",
       "      <td>76.238031</td>\n",
       "    </tr>\n",
       "  </tbody>\n",
       "</table>\n",
       "</div>"
      ],
      "text/plain": [
       "  stop_id                           Stop Name  Latitude  Longitude\n",
       "0   PB001        Fort  Kochi Ro-Ro Boat Jetty  9.968401  76.244678\n",
       "1   PB002             Fort Kochi Bus Terminal  9.968067  76.244536\n",
       "2   PB003              Chinese Finishing Nets  9.968223  76.242725\n",
       "3   PB004              Food Court, Near Beach  9.965376  76.238801\n",
       "4   PB005  Beach Parking, near Dutch Cemetery  9.963948  76.238031"
      ]
     },
     "execution_count": 15,
     "metadata": {},
     "output_type": "execute_result"
    }
   ],
   "source": [
    "bike.head()"
   ]
  },
  {
   "cell_type": "code",
   "execution_count": 16,
   "metadata": {
    "collapsed": true
   },
   "outputs": [],
   "source": [
    "def bikeFunction(minVal):\n",
    "    source_bike = [0,0]\n",
    "    destination_bike =[0,0]\n",
    "    distanc = float(\"inf\")\n",
    "    l = []\n",
    "    for i in bike.index:\n",
    "        #print(accomodation.iloc[i,2],accomodation.iloc[i,3])\n",
    "        Final_dist = distance(minVal[0],minVal[1],bike.iloc[i,2],bike.iloc[i,3])\n",
    "        if Final_dist<distanc:\n",
    "            source_bike[0] = bike.iloc[i,2]\n",
    "            source_bike[1] = bike.iloc[i,3]\n",
    "            (stop_id_bks,stop_name_bks) = (bike.iloc[i,0],bike.iloc[i,1])\n",
    "            distanc = Final_dist\n",
    "    l.append(source_bike[0])\n",
    "    l.append(source_bike[1])\n",
    "    l.append(stop_id_bks)\n",
    "    l.append(stop_name_bks)\n",
    "    l.append(distanc)\n",
    "    return l\n"
   ]
  },
  {
   "cell_type": "code",
   "execution_count": 17,
   "metadata": {},
   "outputs": [
    {
     "name": "stdout",
     "output_type": "stream",
     "text": [
      "[9.990202867999999, 76.29451208, 'PB056', 'Kattakara Jn Canara Bank', 14.12945158421517]\n",
      "[9.990202867999999, 76.29451208, 'PB056', 'Kattakara Jn Canara Bank', 14.764422380427611]\n"
     ]
    }
   ],
   "source": [
    "print(bikeFunction(start))\n",
    "print(bikeFunction(minacc))"
   ]
  },
  {
   "cell_type": "code",
   "execution_count": 18,
   "metadata": {
    "collapsed": true
   },
   "outputs": [],
   "source": [
    "metro_trips = pd.read_csv('Data_Set_Qualifiers\\Mobility\\Kochi Metro\\KMRL - CSV\\Trips.csv')\n",
    "metro_Routes = pd.read_csv('Data_Set_Qualifiers\\Mobility\\Kochi Metro\\KMRL - CSV\\Routes.csv')\n",
    "metro_Schedules = pd.read_csv('Data_Set_Qualifiers\\Mobility\\Kochi Metro\\KMRL - CSV\\Schedules.csv')\n"
   ]
  },
  {
   "cell_type": "code",
   "execution_count": 19,
   "metadata": {
    "collapsed": true
   },
   "outputs": [],
   "source": [
    "import chardet\n",
    "with open('Data_Set_Qualifiers/Mobility/Kochi Metro/KMRL - CSV\\Fares.csv', 'rb') as f:\n",
    "    result = chardet.detect(f.read())  # or readline if the file is large\n",
    "\n",
    "metro_stops = pd.read_csv('Data_Set_Qualifiers\\Mobility\\Kochi Metro\\KMRL - CSV\\stops.csv')\n",
    "metro_Fares = pd.read_csv('Data_Set_Qualifiers\\Mobility\\Kochi Metro\\KMRL - CSV\\Fares.csv',encoding=result['encoding'])"
   ]
  },
  {
   "cell_type": "code",
   "execution_count": null,
   "metadata": {
    "collapsed": true
   },
   "outputs": [],
   "source": []
  },
  {
   "cell_type": "code",
   "execution_count": 20,
   "metadata": {
    "collapsed": true
   },
   "outputs": [],
   "source": [
    "import chardet\n",
    "with open('Data_Set_Qualifiers/Non-Mobility/Gastronomy.csv', 'rb') as f:\n",
    "    result = chardet.detect(f.read())  # or readline if the file is large\n",
    "\n",
    "with open('Data_Set_Qualifiers/Non-Mobility/Religious_Establishments.csv', 'rb') as f:\n",
    "    result = chardet.detect(f.read())  # or readline if the file is large"
   ]
  },
  {
   "cell_type": "code",
   "execution_count": 21,
   "metadata": {
    "collapsed": true
   },
   "outputs": [],
   "source": [
    " #Cultural\n",
    "cultural = pd.read_csv('Data_Set_Qualifiers/Non-Mobility/Cultural.csv')\n",
    "gastronomy = pd.read_csv('Data_Set_Qualifiers/Non-Mobility/Gastronomy.csv',encoding=result['encoding'])\n",
    "recreation = pd.read_csv('Data_Set_Qualifiers/Non-Mobility/Recreation.csv')\n",
    "religious = pd.read_csv('Data_Set_Qualifiers/Non-Mobility/Religious_Establishments.csv',encoding=result['encoding'])\n"
   ]
  },
  {
   "cell_type": "code",
   "execution_count": 22,
   "metadata": {
    "collapsed": true
   },
   "outputs": [],
   "source": [
    "def Nearest_Lat_Long(start,dataF):\n",
    "    minacc = [0,0]\n",
    "    distanc = float(\"inf\")\n",
    "    l = []\n",
    "    for i in dataF.index:\n",
    "        #print(accomodation.iloc[i,2],accomodation.iloc[i,3])\n",
    "        Final_dist = distance(start[0],start[1],dataF.iloc[i,2],dataF.iloc[i,3])\n",
    "        if Final_dist<distanc:\n",
    "            minacc[0] = dataF.iloc[i,2]\n",
    "            minacc[1] = dataF.iloc[i,3]\n",
    "            (name,category) = (dataF.iloc[i,0],dataF.iloc[i,1])\n",
    "            distanc = Final_dist\n",
    "    l.append(minacc[0])\n",
    "    l.append(minacc[1])\n",
    "    l.append(name)\n",
    "    l.append(category)\n",
    "    l.append(distanc)\n",
    "    return l"
   ]
  },
  {
   "cell_type": "code",
   "execution_count": 23,
   "metadata": {
    "collapsed": true
   },
   "outputs": [],
   "source": [
    "cult = Nearest_Lat_Long(start,cultural)\n",
    "gastr = Nearest_Lat_Long(start,gastronomy)\n",
    "recr = Nearest_Lat_Long(start,recreation)\n",
    "relig = Nearest_Lat_Long(start,religious)\n",
    "acc = Nearest_Lat_Long(start,accomodation)"
   ]
  },
  {
   "cell_type": "code",
   "execution_count": 24,
   "metadata": {},
   "outputs": [
    {
     "name": "stdout",
     "output_type": "stream",
     "text": [
      "[10.1095882, 76.3557022, 'Library', 'Library', 2.5453857015212225]\n",
      "[10.081658500000001, 76.36448, 'Zain Fast Food', 'fast_food', 1.403741030659546]\n",
      "[10.1050433, 76.35888940000001, 'Zeenath Theater', 'Theater', 1.9371757978235686]\n",
      "[10.080529499999999, 76.3643103, 'Kodikuthmala Juma Masjid', 'Mosque', 1.5215365808836872]\n",
      "[10.107858300000002, 76.3570147, 'Manjooran', 'hotel', 2.3062196176735603]\n"
     ]
    }
   ],
   "source": [
    "print(cult)\n",
    "print(gastr)\n",
    "print(recr)\n",
    "print(relig)\n",
    "print(acc)"
   ]
  },
  {
   "cell_type": "code",
   "execution_count": null,
   "metadata": {
    "collapsed": true
   },
   "outputs": [],
   "source": []
  },
  {
   "cell_type": "code",
   "execution_count": 25,
   "metadata": {
    "collapsed": true
   },
   "outputs": [],
   "source": [
    "def metroFunction(minVal):\n",
    "    source_metro = [0,0]\n",
    "    destination_metro =[0,0]\n",
    "    distanc = float(\"inf\")\n",
    "    l = []\n",
    "    for i in metro_stops.index:\n",
    "        #print(accomodation.iloc[i,2],accomodation.iloc[i,3])\n",
    "        Final_dist = distance(minVal[0],minVal[1],metro_stops.iloc[i,2],metro_stops.iloc[i,3])\n",
    "        if Final_dist<distanc:\n",
    "            source_metro[0] = metro_stops.iloc[i,2]\n",
    "            source_metro[1] = metro_stops.iloc[i,3]\n",
    "            (stop_id_metro,stop_name_metro) = (metro_stops.iloc[i,0],metro_stops.iloc[i,1])\n",
    "            distanc = Final_dist\n",
    "    l.append(source_metro[0])\n",
    "    l.append(source_metro[1])\n",
    "    l.append(stop_id_metro)\n",
    "    l.append(stop_name_metro)\n",
    "    l.append(distanc)\n",
    "    return l"
   ]
  },
  {
   "cell_type": "code",
   "execution_count": 26,
   "metadata": {},
   "outputs": [
    {
     "name": "stdout",
     "output_type": "stream",
     "text": [
      "[10.0951, 76.3466, 'PNCU', 'Pulinchodu', 2.700720448834505]\n"
     ]
    }
   ],
   "source": [
    "auto_s = (autoFunction(start))\n",
    "bk_s = (bikeFunction(start))\n",
    "\n",
    "auto_Acc_d = (autoFunction(minacc))\n",
    "bk_Acc_d = (bikeFunction(minacc))\n",
    "\n",
    "auto_cult_d = (autoFunction([cult[0],cult[1]]))\n",
    "bk_cult_d = (bikeFunction([cult[0],cult[1]]))\n",
    "\n",
    "auto_gas_d = (autoFunction([gastr[0],gastr[1]]))\n",
    "bk_gas_d = (bikeFunction([gastr[0],gastr[1]]))\n",
    "\n",
    "auto_rec_d = (autoFunction([recr[0],recr[1]]))\n",
    "bk_rec_d = (bikeFunction([recr[0],recr[1]]))\n",
    "\n",
    "auto_relg_d = (autoFunction([relig[0],relig[1]]))\n",
    "bk_relg_d = (bikeFunction([relig[0],relig[1]]))\n",
    "\n",
    "\n",
    "metro_s  = metroFunction(start)\n",
    "metro_Acc_d = metroFunction(minacc)\n",
    "metro_cult_d = metroFunction([cult[0],cult[1]])\n",
    "metro_gas_d = metroFunction([gastr[0],gastr[1]])\n",
    "metro_rec_d = metroFunction([recr[0],recr[1]])\n",
    "metro_relg_d = metroFunction([relig[0],relig[1]])\n",
    "print(metro_s)"
   ]
  },
  {
   "cell_type": "code",
   "execution_count": 27,
   "metadata": {},
   "outputs": [
    {
     "name": "stdout",
     "output_type": "stream",
     "text": [
      " Activity         distance from source(in kms) \n",
      " 1.Accomodation  2.3062196176735603 \n",
      " 2.Cultural       2.5453857015212225 \n",
      " 3.Gastronomy    1.403741030659546 \n",
      " 4.Recreation    1.9371757978235686 \n",
      " 5.Religious    1.5215365808836872\n",
      "specify Activity(destination)3\n"
     ]
    }
   ],
   "source": [
    "print(\" Activity         distance from source(in kms) \\n 1.Accomodation  {} \\n 2.Cultural       {} \\n 3.Gastronomy    {} \\n 4.Recreation    {} \\n 5.Religious    {}\".format(acc[4],cult[4],gastr[4],recr[4],relig[4]))\n",
    "\n",
    "choice = int(input('specify Activity(destination)'))\n"
   ]
  },
  {
   "cell_type": "code",
   "execution_count": 28,
   "metadata": {
    "collapsed": true
   },
   "outputs": [],
   "source": [
    "if choice==1:\n",
    "    lst = acc\n",
    "    lstad=auto_Acc_d\n",
    "    lstbd=bk_Acc_d\n",
    "    lstmd = metro_Acc_d\n",
    "elif choice==2:\n",
    "    lst = cult\n",
    "    lstad=auto_cult_d\n",
    "    lstbd=bk_cult_d\n",
    "    lstmd=metro_cult_d\n",
    "elif choice==3:\n",
    "    lst = gastr\n",
    "    lstad=auto_gas_d\n",
    "    lstbd=bk_gas_d\n",
    "    lstmd=metro_gas_d\n",
    "elif choice==4:\n",
    "    lst = recr\n",
    "    lstad=auto_rec_d\n",
    "    lstbd=bk_rec_d\n",
    "    lstmd=metro_rec_d\n",
    "elif choice==5:\n",
    "    lst = relig\n",
    "    lstad=auto_rel_d\n",
    "    lstbd=bk_rel_d\n",
    "    lstmd=metro_rel_d\n",
    "else:\n",
    "    print('wrong choice')"
   ]
  },
  {
   "cell_type": "code",
   "execution_count": 29,
   "metadata": {
    "collapsed": true
   },
   "outputs": [],
   "source": [
    "metro_Fares.set_index('Unnamed: 0', inplace=True)"
   ]
  },
  {
   "cell_type": "code",
   "execution_count": 30,
   "metadata": {},
   "outputs": [
    {
     "name": "stdout",
     "output_type": "stream",
     "text": [
      "1.403741030659546\n",
      "metro fare for travel : 10\n",
      "Schedule For Metro From Source to Destination\n",
      "\n",
      "Arrival_Time\tDeparture_Time\tStop_sequence\tDistance_Travelled\n",
      "06:02:19 \t 06:02:39 \t 2 \t\t 1.83\n",
      "07:04:02 \t 07:04:22 \t 15 \t\t 16.28\n",
      "07:12:19 \t 07:12:39 \t 2 \t\t 1.83\n",
      "08:18:10 \t 08:18:30 \t 15 \t\t 16.28\n",
      "08:27:59 \t 08:28:19 \t 2 \t\t 1.83\n",
      "09:29:42 \t 09:30:02 \t 15 \t\t 16.28\n",
      "09:37:59 \t 09:38:19 \t 2 \t\t 1.83\n",
      "10:39:42 \t 10:40:02 \t 15 \t\t 16.28\n",
      "10:47:59 \t 10:48:19 \t 2 \t\t 1.83\n",
      "11:49:42 \t 11:50:02 \t 15 \t\t 16.28\n",
      "11:57:59 \t 11:58:19 \t 2 \t\t 1.83\n",
      "12:59:42 \t 13:00:02 \t 15 \t\t 16.28\n",
      "13:07:59 \t 13:08:19 \t 2 \t\t 1.83\n",
      "14:09:42 \t 14:10:02 \t 15 \t\t 16.28\n",
      "14:17:59 \t 14:18:19 \t 2 \t\t 1.83\n",
      "15:19:42 \t 15:20:02 \t 15 \t\t 16.28\n",
      "15:27:59 \t 15:28:19 \t 2 \t\t 1.83\n",
      "16:29:42 \t 16:30:02 \t 15 \t\t 16.28\n",
      "16:37:59 \t 16:38:19 \t 2 \t\t 1.83\n",
      "17:39:42 \t 17:40:02 \t 15 \t\t 16.28\n",
      "17:47:59 \t 17:48:19 \t 2 \t\t 1.83\n",
      "18:49:42 \t 18:50:02 \t 15 \t\t 16.28\n",
      "18:57:59 \t 18:58:19 \t 2 \t\t 1.83\n",
      "19:58:09 \t 19:58:29 \t 15 \t\t 16.28\n",
      "06:29:01 \t 06:29:21 \t 15 \t\t 16.28\n",
      "06:37:18 \t 06:37:38 \t 2 \t\t 1.83\n",
      "07:39:31 \t 07:39:51 \t 15 \t\t 16.28\n",
      "07:47:58 \t 07:48:18 \t 2 \t\t 1.83\n",
      "08:53:19 \t 08:53:39 \t 15 \t\t 16.28\n",
      "09:02:58 \t 09:03:18 \t 2 \t\t 1.83\n",
      "10:04:41 \t 10:05:01 \t 15 \t\t 16.28\n",
      "10:12:58 \t 10:13:18 \t 2 \t\t 1.83\n",
      "11:14:41 \t 11:15:01 \t 15 \t\t 16.28\n",
      "11:22:58 \t 11:23:18 \t 2 \t\t 1.83\n",
      "12:24:41 \t 12:25:01 \t 15 \t\t 16.28\n",
      "12:32:58 \t 12:33:18 \t 2 \t\t 1.83\n",
      "13:34:41 \t 13:35:01 \t 15 \t\t 16.28\n",
      "13:42:58 \t 13:43:18 \t 2 \t\t 1.83\n",
      "14:44:41 \t 14:45:01 \t 15 \t\t 16.28\n",
      "14:52:58 \t 14:53:18 \t 2 \t\t 1.83\n",
      "15:54:41 \t 15:55:01 \t 15 \t\t 16.28\n",
      "16:02:58 \t 16:03:18 \t 2 \t\t 1.83\n",
      "17:04:41 \t 17:05:01 \t 15 \t\t 16.28\n",
      "17:12:58 \t 17:13:18 \t 2 \t\t 1.83\n",
      "18:14:41 \t 18:15:01 \t 15 \t\t 16.28\n",
      "18:22:58 \t 18:23:18 \t 2 \t\t 1.83\n",
      "19:24:41 \t 19:25:01 \t 15 \t\t 16.28\n",
      "19:32:58 \t 19:33:18 \t 2 \t\t 1.83\n",
      "20:33:08 \t 20:33:28 \t 15 \t\t 16.28\n",
      "06:11:21 \t 06:11:41 \t 15 \t\t 16.28\n",
      "06:19:38 \t 06:19:58 \t 2 \t\t 1.83\n",
      "07:17:59 \t 07:18:19 \t 15 \t\t 16.28\n",
      "07:26:08 \t 07:26:28 \t 2 \t\t 1.83\n",
      "08:27:51 \t 08:28:11 \t 15 \t\t 16.28\n",
      "08:36:33 \t 08:36:53 \t 2 \t\t 1.83\n",
      "09:38:16 \t 09:38:36 \t 15 \t\t 16.28\n",
      "09:46:33 \t 09:46:53 \t 2 \t\t 1.83\n",
      "10:48:16 \t 10:48:36 \t 15 \t\t 16.28\n",
      "10:56:33 \t 10:56:53 \t 2 \t\t 1.83\n",
      "11:58:16 \t 11:58:36 \t 15 \t\t 16.28\n",
      "12:06:33 \t 12:06:53 \t 2 \t\t 1.83\n",
      "13:08:16 \t 13:08:36 \t 15 \t\t 16.28\n",
      "13:16:33 \t 13:16:53 \t 2 \t\t 1.83\n",
      "14:18:16 \t 14:18:36 \t 15 \t\t 16.28\n",
      "14:26:33 \t 14:26:53 \t 2 \t\t 1.83\n",
      "15:28:16 \t 15:28:36 \t 15 \t\t 16.28\n",
      "15:36:33 \t 15:36:53 \t 2 \t\t 1.83\n",
      "16:38:16 \t 16:38:36 \t 15 \t\t 16.28\n",
      "16:46:33 \t 16:46:53 \t 2 \t\t 1.83\n",
      "17:48:16 \t 17:48:36 \t 15 \t\t 16.28\n",
      "17:56:33 \t 17:56:53 \t 2 \t\t 1.83\n",
      "18:58:16 \t 18:58:36 \t 15 \t\t 16.28\n",
      "19:06:33 \t 19:06:53 \t 2 \t\t 1.83\n",
      "20:05:48 \t 20:06:08 \t 15 \t\t 16.28\n",
      "20:13:38 \t 20:13:58 \t 2 \t\t 1.83\n",
      "21:10:10 \t 21:10:30 \t 15 \t\t 16.28\n",
      "21:18:58 \t 21:19:18 \t 2 \t\t 1.83\n",
      "22:18:13 \t 22:18:33 \t 15 \t\t 16.28\n",
      "05:43:03 \t 05:43:23 \t 2 \t\t 1.83\n",
      "06:46:14 \t 06:46:34 \t 15 \t\t 16.28\n",
      "06:54:31 \t 06:54:51 \t 2 \t\t 1.83\n",
      "07:58:17 \t 07:58:37 \t 15 \t\t 16.28\n",
      "08:07:41 \t 08:08:01 \t 2 \t\t 1.83\n",
      "09:11:27 \t 09:11:47 \t 15 \t\t 16.28\n",
      "09:20:11 \t 09:20:31 \t 2 \t\t 1.83\n",
      "10:21:54 \t 10:22:14 \t 15 \t\t 16.28\n",
      "10:30:11 \t 10:30:31 \t 2 \t\t 1.83\n",
      "11:31:54 \t 11:32:14 \t 15 \t\t 16.28\n",
      "11:40:11 \t 11:40:31 \t 2 \t\t 1.83\n",
      "12:41:54 \t 12:42:14 \t 15 \t\t 16.28\n",
      "12:50:11 \t 12:50:31 \t 2 \t\t 1.83\n",
      "13:51:54 \t 13:52:14 \t 15 \t\t 16.28\n",
      "14:00:11 \t 14:00:31 \t 2 \t\t 1.83\n",
      "15:01:54 \t 15:02:14 \t 15 \t\t 16.28\n",
      "15:10:11 \t 15:10:31 \t 2 \t\t 1.83\n",
      "16:11:54 \t 16:12:14 \t 15 \t\t 16.28\n",
      "16:20:11 \t 16:20:31 \t 2 \t\t 1.83\n",
      "17:21:54 \t 17:22:14 \t 15 \t\t 16.28\n",
      "17:30:11 \t 17:30:31 \t 2 \t\t 1.83\n",
      "18:31:54 \t 18:32:14 \t 15 \t\t 16.28\n",
      "18:40:11 \t 18:40:31 \t 2 \t\t 1.83\n",
      "19:41:54 \t 19:42:14 \t 15 \t\t 16.28\n",
      "19:50:11 \t 19:50:31 \t 2 \t\t 1.83\n",
      "20:55:32 \t 20:55:52 \t 15 \t\t 16.28\n",
      "21:04:51 \t 21:05:11 \t 2 \t\t 1.83\n",
      "22:04:06 \t 22:04:26 \t 15 \t\t 16.28\n",
      "07:37:59 \t 07:38:19 \t 2 \t\t 1.83\n",
      "08:36:22 \t 08:36:42 \t 15 \t\t 16.28\n",
      "08:45:29 \t 08:45:49 \t 2 \t\t 1.83\n",
      "09:47:12 \t 09:47:32 \t 15 \t\t 16.28\n",
      "09:55:29 \t 09:55:49 \t 2 \t\t 1.83\n",
      "10:57:12 \t 10:57:32 \t 15 \t\t 16.28\n",
      "11:05:29 \t 11:05:49 \t 2 \t\t 1.83\n",
      "12:07:12 \t 12:07:32 \t 15 \t\t 16.28\n",
      "12:15:29 \t 12:15:49 \t 2 \t\t 1.83\n",
      "13:17:12 \t 13:17:32 \t 15 \t\t 16.28\n",
      "13:25:29 \t 13:25:49 \t 2 \t\t 1.83\n",
      "14:27:12 \t 14:27:32 \t 15 \t\t 16.28\n",
      "14:35:29 \t 14:35:49 \t 2 \t\t 1.83\n",
      "15:37:12 \t 15:37:32 \t 15 \t\t 16.28\n",
      "15:45:29 \t 15:45:49 \t 2 \t\t 1.83\n",
      "16:47:12 \t 16:47:32 \t 15 \t\t 16.28\n",
      "16:55:29 \t 16:55:49 \t 2 \t\t 1.83\n",
      "17:57:12 \t 17:57:32 \t 15 \t\t 16.28\n",
      "18:05:29 \t 18:05:49 \t 2 \t\t 1.83\n",
      "19:07:12 \t 19:07:32 \t 15 \t\t 16.28\n",
      "19:15:29 \t 19:15:49 \t 2 \t\t 1.83\n",
      "20:17:12 \t 20:17:32 \t 15 \t\t 16.28\n",
      "20:25:15 \t 20:25:35 \t 2 \t\t 1.83\n",
      "21:24:30 \t 21:24:50 \t 15 \t\t 16.28\n",
      "21:32:23 \t 21:32:43 \t 2 \t\t 1.83\n",
      "22:26:33 \t 22:26:53 \t 15 \t\t 16.28\n",
      "07:57:59 \t 07:58:19 \t 2 \t\t 1.83\n",
      "09:02:20 \t 09:02:40 \t 15 \t\t 16.28\n",
      "09:11:44 \t 09:12:04 \t 2 \t\t 1.83\n",
      "10:13:27 \t 10:13:47 \t 15 \t\t 16.28\n",
      "10:21:44 \t 10:22:04 \t 2 \t\t 1.83\n",
      "11:23:27 \t 11:23:47 \t 15 \t\t 16.28\n",
      "11:31:44 \t 11:32:04 \t 2 \t\t 1.83\n",
      "12:33:27 \t 12:33:47 \t 15 \t\t 16.28\n",
      "12:41:44 \t 12:42:04 \t 2 \t\t 1.83\n",
      "13:43:27 \t 13:43:47 \t 15 \t\t 16.28\n",
      "13:51:44 \t 13:52:04 \t 2 \t\t 1.83\n",
      "14:53:27 \t 14:53:47 \t 15 \t\t 16.28\n",
      "15:01:44 \t 15:02:04 \t 2 \t\t 1.83\n",
      "16:03:27 \t 16:03:47 \t 15 \t\t 16.28\n",
      "16:11:44 \t 16:12:04 \t 2 \t\t 1.83\n",
      "17:13:27 \t 17:13:47 \t 15 \t\t 16.28\n",
      "17:21:44 \t 17:22:04 \t 2 \t\t 1.83\n",
      "18:23:27 \t 18:23:47 \t 15 \t\t 16.28\n",
      "18:31:44 \t 18:32:04 \t 2 \t\t 1.83\n",
      "19:33:27 \t 19:33:47 \t 15 \t\t 16.28\n",
      "19:41:44 \t 19:42:04 \t 2 \t\t 1.83\n",
      "20:42:46 \t 20:43:06 \t 15 \t\t 16.28\n",
      "20:51:09 \t 20:51:29 \t 2 \t\t 1.83\n",
      "21:53:22 \t 21:53:42 \t 15 \t\t 16.28\n",
      "22:02:19 \t 22:02:39 \t 2 \t\t 1.83\n",
      "08:17:59 \t 08:18:19 \t 2 \t\t 1.83\n",
      "09:20:42 \t 09:21:02 \t 15 \t\t 16.28\n",
      "09:29:14 \t 09:29:34 \t 2 \t\t 1.83\n",
      "10:30:57 \t 10:31:17 \t 15 \t\t 16.28\n",
      "10:39:14 \t 10:39:34 \t 2 \t\t 1.83\n",
      "11:40:57 \t 11:41:17 \t 15 \t\t 16.28\n",
      "11:49:14 \t 11:49:34 \t 2 \t\t 1.83\n",
      "12:50:57 \t 12:51:17 \t 15 \t\t 16.28\n",
      "12:59:14 \t 12:59:34 \t 2 \t\t 1.83\n",
      "14:00:57 \t 14:01:17 \t 15 \t\t 16.28\n",
      "14:09:14 \t 14:09:34 \t 2 \t\t 1.83\n",
      "15:10:57 \t 15:11:17 \t 15 \t\t 16.28\n",
      "15:19:14 \t 15:19:34 \t 2 \t\t 1.83\n",
      "16:20:57 \t 16:21:17 \t 15 \t\t 16.28\n",
      "16:29:14 \t 16:29:34 \t 2 \t\t 1.83\n",
      "17:30:57 \t 17:31:17 \t 15 \t\t 16.28\n",
      "17:39:14 \t 17:39:34 \t 2 \t\t 1.83\n",
      "18:40:57 \t 18:41:17 \t 15 \t\t 16.28\n",
      "18:49:14 \t 18:49:34 \t 2 \t\t 1.83\n",
      "19:52:31 \t 19:52:51 \t 15 \t\t 16.28\n",
      "20:02:09 \t 20:02:29 \t 2 \t\t 1.83\n",
      "21:01:24 \t 21:01:44 \t 15 \t\t 16.28\n",
      "08:54:14 \t 08:54:34 \t 2 \t\t 1.83\n",
      "09:55:57 \t 09:56:17 \t 15 \t\t 16.28\n",
      "10:04:14 \t 10:04:34 \t 2 \t\t 1.83\n",
      "11:05:57 \t 11:06:17 \t 15 \t\t 16.28\n",
      "11:14:14 \t 11:14:34 \t 2 \t\t 1.83\n",
      "12:15:57 \t 12:16:17 \t 15 \t\t 16.28\n",
      "12:24:14 \t 12:24:34 \t 2 \t\t 1.83\n",
      "13:25:57 \t 13:26:17 \t 15 \t\t 16.28\n",
      "13:34:14 \t 13:34:34 \t 2 \t\t 1.83\n",
      "14:35:57 \t 14:36:17 \t 15 \t\t 16.28\n",
      "14:44:14 \t 14:44:34 \t 2 \t\t 1.83\n",
      "15:45:57 \t 15:46:17 \t 15 \t\t 16.28\n",
      "15:54:14 \t 15:54:34 \t 2 \t\t 1.83\n",
      "16:55:57 \t 16:56:17 \t 15 \t\t 16.28\n",
      "17:04:14 \t 17:04:34 \t 2 \t\t 1.83\n",
      "18:05:57 \t 18:06:17 \t 15 \t\t 16.28\n",
      "18:14:14 \t 18:14:34 \t 2 \t\t 1.83\n",
      "19:15:57 \t 19:16:17 \t 15 \t\t 16.28\n",
      "19:24:14 \t 19:24:34 \t 2 \t\t 1.83\n",
      "20:28:00 \t 20:28:20 \t 15 \t\t 16.28\n",
      "20:37:09 \t 20:37:29 \t 2 \t\t 1.83\n",
      "21:38:52 \t 21:39:12 \t 15 \t\t 16.28\n",
      "21:47:49 \t 21:48:09 \t 2 \t\t 1.83\n",
      "08:02:19 \t 08:02:39 \t 2 \t\t 1.83\n",
      "09:04:02 \t 09:04:22 \t 15 \t\t 16.28\n",
      "09:12:19 \t 09:12:39 \t 2 \t\t 1.83\n",
      "10:18:10 \t 10:18:30 \t 15 \t\t 16.28\n",
      "10:27:59 \t 10:28:19 \t 2 \t\t 1.83\n",
      "11:29:42 \t 11:30:02 \t 15 \t\t 16.28\n",
      "11:37:59 \t 11:38:19 \t 2 \t\t 1.83\n",
      "12:39:42 \t 12:40:02 \t 15 \t\t 16.28\n",
      "12:47:59 \t 12:48:19 \t 2 \t\t 1.83\n",
      "13:49:42 \t 13:50:02 \t 15 \t\t 16.28\n",
      "13:57:59 \t 13:58:19 \t 2 \t\t 1.83\n",
      "14:59:42 \t 15:00:02 \t 15 \t\t 16.28\n",
      "15:07:59 \t 15:08:19 \t 2 \t\t 1.83\n",
      "16:09:42 \t 16:10:02 \t 15 \t\t 16.28\n",
      "16:17:59 \t 16:18:19 \t 2 \t\t 1.83\n",
      "17:19:42 \t 17:20:02 \t 15 \t\t 16.28\n",
      "17:27:59 \t 17:28:19 \t 2 \t\t 1.83\n",
      "18:29:42 \t 18:30:02 \t 15 \t\t 16.28\n",
      "18:37:59 \t 18:38:19 \t 2 \t\t 1.83\n",
      "19:41:16 \t 19:41:36 \t 15 \t\t 16.28\n",
      "19:50:11 \t 19:50:31 \t 2 \t\t 1.83\n",
      "20:55:32 \t 20:55:52 \t 15 \t\t 16.28\n",
      "21:04:51 \t 21:05:11 \t 2 \t\t 1.83\n",
      "22:04:06 \t 22:04:26 \t 15 \t\t 16.28\n",
      "08:29:01 \t 08:29:21 \t 15 \t\t 16.28\n",
      "08:37:18 \t 08:37:38 \t 2 \t\t 1.83\n",
      "09:39:31 \t 09:39:51 \t 15 \t\t 16.28\n",
      "09:47:58 \t 09:48:18 \t 2 \t\t 1.83\n",
      "10:53:19 \t 10:53:39 \t 15 \t\t 16.28\n",
      "11:02:58 \t 11:03:18 \t 2 \t\t 1.83\n",
      "12:04:41 \t 12:05:01 \t 15 \t\t 16.28\n",
      "12:12:58 \t 12:13:18 \t 2 \t\t 1.83\n",
      "13:14:41 \t 13:15:01 \t 15 \t\t 16.28\n",
      "13:22:58 \t 13:23:18 \t 2 \t\t 1.83\n",
      "14:24:41 \t 14:25:01 \t 15 \t\t 16.28\n",
      "14:32:58 \t 14:33:18 \t 2 \t\t 1.83\n",
      "15:34:41 \t 15:35:01 \t 15 \t\t 16.28\n",
      "15:42:58 \t 15:43:18 \t 2 \t\t 1.83\n",
      "16:44:41 \t 16:45:01 \t 15 \t\t 16.28\n",
      "16:52:58 \t 16:53:18 \t 2 \t\t 1.83\n",
      "17:54:41 \t 17:55:01 \t 15 \t\t 16.28\n",
      "18:02:58 \t 18:03:18 \t 2 \t\t 1.83\n",
      "19:04:41 \t 19:05:01 \t 15 \t\t 16.28\n",
      "19:13:12 \t 19:13:32 \t 2 \t\t 1.83\n",
      "20:17:12 \t 20:17:32 \t 15 \t\t 16.28\n",
      "20:25:15 \t 20:25:35 \t 2 \t\t 1.83\n",
      "21:24:30 \t 21:24:50 \t 15 \t\t 16.28\n",
      "21:32:23 \t 21:32:43 \t 2 \t\t 1.83\n",
      "22:26:33 \t 22:26:53 \t 15 \t\t 16.28\n",
      "08:11:21 \t 08:11:41 \t 15 \t\t 16.28\n",
      "08:19:38 \t 08:19:58 \t 2 \t\t 1.83\n",
      "09:17:59 \t 09:18:19 \t 15 \t\t 16.28\n",
      "09:26:08 \t 09:26:28 \t 2 \t\t 1.83\n",
      "10:27:51 \t 10:28:11 \t 15 \t\t 16.28\n",
      "10:36:33 \t 10:36:53 \t 2 \t\t 1.83\n"
     ]
    },
    {
     "name": "stdout",
     "output_type": "stream",
     "text": [
      "11:38:16 \t 11:38:36 \t 15 \t\t 16.28\n",
      "11:46:33 \t 11:46:53 \t 2 \t\t 1.83\n",
      "12:48:16 \t 12:48:36 \t 15 \t\t 16.28\n",
      "12:56:33 \t 12:56:53 \t 2 \t\t 1.83\n",
      "13:58:16 \t 13:58:36 \t 15 \t\t 16.28\n",
      "14:06:33 \t 14:06:53 \t 2 \t\t 1.83\n",
      "15:08:16 \t 15:08:36 \t 15 \t\t 16.28\n",
      "15:16:33 \t 15:16:53 \t 2 \t\t 1.83\n",
      "16:18:16 \t 16:18:36 \t 15 \t\t 16.28\n",
      "16:26:33 \t 16:26:53 \t 2 \t\t 1.83\n",
      "17:28:16 \t 17:28:36 \t 15 \t\t 16.28\n",
      "17:36:33 \t 17:36:53 \t 2 \t\t 1.83\n",
      "18:38:16 \t 18:38:36 \t 15 \t\t 16.28\n",
      "18:46:33 \t 18:46:53 \t 2 \t\t 1.83\n",
      "19:52:31 \t 19:52:51 \t 15 \t\t 16.28\n",
      "20:02:09 \t 20:02:29 \t 2 \t\t 1.83\n",
      "21:01:24 \t 21:01:44 \t 15 \t\t 16.28\n",
      "07:43:03 \t 07:43:23 \t 2 \t\t 1.83\n",
      "08:46:14 \t 08:46:34 \t 15 \t\t 16.28\n",
      "08:54:31 \t 08:54:51 \t 2 \t\t 1.83\n",
      "09:58:17 \t 09:58:37 \t 15 \t\t 16.28\n",
      "10:07:41 \t 10:08:01 \t 2 \t\t 1.83\n",
      "11:11:27 \t 11:11:47 \t 15 \t\t 16.28\n",
      "11:20:11 \t 11:20:31 \t 2 \t\t 1.83\n",
      "12:21:54 \t 12:22:14 \t 15 \t\t 16.28\n",
      "12:30:11 \t 12:30:31 \t 2 \t\t 1.83\n",
      "13:31:54 \t 13:32:14 \t 15 \t\t 16.28\n",
      "13:40:11 \t 13:40:31 \t 2 \t\t 1.83\n",
      "14:41:54 \t 14:42:14 \t 15 \t\t 16.28\n",
      "14:50:11 \t 14:50:31 \t 2 \t\t 1.83\n",
      "15:51:54 \t 15:52:14 \t 15 \t\t 16.28\n",
      "16:00:11 \t 16:00:31 \t 2 \t\t 1.83\n",
      "17:01:54 \t 17:02:14 \t 15 \t\t 16.28\n",
      "17:10:11 \t 17:10:31 \t 2 \t\t 1.83\n",
      "18:11:54 \t 18:12:14 \t 15 \t\t 16.28\n",
      "18:20:11 \t 18:20:31 \t 2 \t\t 1.83\n",
      "19:21:54 \t 19:22:14 \t 15 \t\t 16.28\n",
      "19:30:31 \t 19:30:51 \t 2 \t\t 1.83\n",
      "20:33:08 \t 20:33:28 \t 15 \t\t 16.28\n",
      "09:37:59 \t 09:38:19 \t 2 \t\t 1.83\n",
      "10:36:22 \t 10:36:42 \t 15 \t\t 16.28\n",
      "10:45:29 \t 10:45:49 \t 2 \t\t 1.83\n",
      "11:47:12 \t 11:47:32 \t 15 \t\t 16.28\n",
      "11:55:29 \t 11:55:49 \t 2 \t\t 1.83\n",
      "12:57:12 \t 12:57:32 \t 15 \t\t 16.28\n",
      "13:05:29 \t 13:05:49 \t 2 \t\t 1.83\n",
      "14:07:12 \t 14:07:32 \t 15 \t\t 16.28\n",
      "14:15:29 \t 14:15:49 \t 2 \t\t 1.83\n",
      "15:17:12 \t 15:17:32 \t 15 \t\t 16.28\n",
      "15:25:29 \t 15:25:49 \t 2 \t\t 1.83\n",
      "16:27:12 \t 16:27:32 \t 15 \t\t 16.28\n",
      "16:35:29 \t 16:35:49 \t 2 \t\t 1.83\n",
      "17:37:12 \t 17:37:32 \t 15 \t\t 16.28\n",
      "17:45:29 \t 17:45:49 \t 2 \t\t 1.83\n",
      "18:47:12 \t 18:47:32 \t 15 \t\t 16.28\n",
      "18:55:29 \t 18:55:49 \t 2 \t\t 1.83\n",
      "19:58:12 \t 19:58:32 \t 15 \t\t 16.28\n",
      "09:57:59 \t 09:58:19 \t 2 \t\t 1.83\n",
      "11:02:20 \t 11:02:40 \t 15 \t\t 16.28\n",
      "11:11:44 \t 11:12:04 \t 2 \t\t 1.83\n",
      "12:13:27 \t 12:13:47 \t 15 \t\t 16.28\n",
      "12:21:44 \t 12:22:04 \t 2 \t\t 1.83\n",
      "13:23:27 \t 13:23:47 \t 15 \t\t 16.28\n",
      "13:31:44 \t 13:32:04 \t 2 \t\t 1.83\n",
      "14:33:27 \t 14:33:47 \t 15 \t\t 16.28\n",
      "14:41:44 \t 14:42:04 \t 2 \t\t 1.83\n",
      "15:43:27 \t 15:43:47 \t 15 \t\t 16.28\n",
      "15:51:44 \t 15:52:04 \t 2 \t\t 1.83\n",
      "16:53:27 \t 16:53:47 \t 15 \t\t 16.28\n",
      "17:01:44 \t 17:02:04 \t 2 \t\t 1.83\n",
      "18:03:27 \t 18:03:47 \t 15 \t\t 16.28\n",
      "18:11:44 \t 18:12:04 \t 2 \t\t 1.83\n",
      "19:13:27 \t 19:13:47 \t 15 \t\t 16.28\n",
      "19:21:58 \t 19:22:18 \t 2 \t\t 1.83\n",
      "20:28:00 \t 20:28:20 \t 15 \t\t 16.28\n",
      "20:37:09 \t 20:37:29 \t 2 \t\t 1.83\n",
      "21:38:52 \t 21:39:12 \t 15 \t\t 16.28\n",
      "21:47:49 \t 21:48:09 \t 2 \t\t 1.83\n",
      "10:17:59 \t 10:18:19 \t 2 \t\t 1.83\n",
      "11:20:42 \t 11:21:02 \t 15 \t\t 16.28\n",
      "11:29:14 \t 11:29:34 \t 2 \t\t 1.83\n",
      "12:30:57 \t 12:31:17 \t 15 \t\t 16.28\n",
      "12:39:14 \t 12:39:34 \t 2 \t\t 1.83\n",
      "13:40:57 \t 13:41:17 \t 15 \t\t 16.28\n",
      "13:49:14 \t 13:49:34 \t 2 \t\t 1.83\n",
      "14:50:57 \t 14:51:17 \t 15 \t\t 16.28\n",
      "14:59:14 \t 14:59:34 \t 2 \t\t 1.83\n",
      "16:00:57 \t 16:01:17 \t 15 \t\t 16.28\n",
      "16:09:14 \t 16:09:34 \t 2 \t\t 1.83\n",
      "17:10:57 \t 17:11:17 \t 15 \t\t 16.28\n",
      "17:19:14 \t 17:19:34 \t 2 \t\t 1.83\n",
      "18:20:57 \t 18:21:17 \t 15 \t\t 16.28\n",
      "18:29:14 \t 18:29:34 \t 2 \t\t 1.83\n",
      "19:30:57 \t 19:31:17 \t 15 \t\t 16.28\n",
      "19:39:28 \t 19:39:48 \t 2 \t\t 1.83\n",
      "20:42:46 \t 20:43:06 \t 15 \t\t 16.28\n",
      "20:51:09 \t 20:51:29 \t 2 \t\t 1.83\n",
      "21:53:22 \t 21:53:42 \t 15 \t\t 16.28\n",
      "22:02:19 \t 22:02:39 \t 2 \t\t 1.83\n",
      "10:54:14 \t 10:54:34 \t 2 \t\t 1.83\n",
      "11:55:57 \t 11:56:17 \t 15 \t\t 16.28\n",
      "12:04:14 \t 12:04:34 \t 2 \t\t 1.83\n",
      "13:05:57 \t 13:06:17 \t 15 \t\t 16.28\n",
      "13:14:14 \t 13:14:34 \t 2 \t\t 1.83\n",
      "14:15:57 \t 14:16:17 \t 15 \t\t 16.28\n",
      "14:24:14 \t 14:24:34 \t 2 \t\t 1.83\n",
      "15:25:57 \t 15:26:17 \t 15 \t\t 16.28\n",
      "15:34:14 \t 15:34:34 \t 2 \t\t 1.83\n",
      "16:35:57 \t 16:36:17 \t 15 \t\t 16.28\n",
      "16:44:14 \t 16:44:34 \t 2 \t\t 1.83\n",
      "17:45:57 \t 17:46:17 \t 15 \t\t 16.28\n",
      "17:54:14 \t 17:54:34 \t 2 \t\t 1.83\n",
      "18:55:57 \t 18:56:17 \t 15 \t\t 16.28\n",
      "19:04:14 \t 19:04:34 \t 2 \t\t 1.83\n",
      "20:05:21 \t 20:05:41 \t 15 \t\t 16.28\n",
      "20:13:38 \t 20:13:58 \t 2 \t\t 1.83\n",
      "21:10:10 \t 21:10:30 \t 15 \t\t 16.28\n",
      "21:18:58 \t 21:19:18 \t 2 \t\t 1.83\n",
      "22:18:13 \t 22:18:33 \t 15 \t\t 16.28\n",
      "*****************************************************************************************************************\n",
      "metro is best option to reach destination\n"
     ]
    },
    {
     "data": {
      "text/plain": [
       "<folium.map.Marker at 0x21f56742390>"
      ]
     },
     "execution_count": 30,
     "metadata": {},
     "output_type": "execute_result"
    }
   ],
   "source": [
    "#adding variables on markup\n",
    "#folium.Marker(loc, popup='{}'.format( i )).add_to(m)\n",
    "\n",
    "map_ = folium.Map(location=[10.15333272,76.388165114],\n",
    "                    zoom_start = 11)\n",
    "\n",
    "total_distance=distance(lst[0],lst[1],start[0],start[1])\n",
    "\n",
    "#destination plot\n",
    "folium.Marker([lst[0],lst[1]], popup='Destination',icon=folium.Icon(color='orange')).add_to(map_)\n",
    "\n",
    "#if distance is less than 500m you can walk and explore local places else take some transport to reach destination\n",
    "if total_distance<0.5:\n",
    "    print(\"The Destination is just {} km away. You should walk!!\".format(total_distance))\n",
    "    folium.PolyLine(locations=[[lst[0],lst[1]],[start[0],start[1]]], color='purple').add_to(map_)\n",
    "else:\n",
    "    \n",
    "    #finding distance of pickup location from source for each mode of transportation\n",
    "    auto_dis=distance(auto_s[0],auto_s[1],start[0],start[1])\n",
    "    bik_dis=distance(bk_s[0],bk_s[1],start[0],start[1])\n",
    "    metro_dis=distance(metro_s[0],metro_s[1],start[0],start[1])\n",
    "    ferry_dis=distance(source_ferry[0],source_ferry[1],start[0],start[1])\n",
    "    #print(auto_dis,bik_dis,metro_dis,ferry_dis)\n",
    "    \n",
    "    emission=[]\n",
    "    emission.append(auto_dis)\n",
    "    emission.append(ferry_dis)\n",
    "    emission.append(metro_dis)\n",
    "    emission.append(bik_dis)\n",
    "    \n",
    "    flag1=0\n",
    "    flag2=0\n",
    "    flag3=0\n",
    "    flag4=0\n",
    "    \n",
    "    \n",
    "    dis_a=distance(auto_s[0],auto_s[1],lst[0],lst[1])\n",
    "    if dis_a and total_distance>dis_a:\n",
    "        folium.Marker([auto_s[0],auto_s[1]], popup='Pickup Location,Transport:auto',icon=folium.Icon(color='purple',icon_color='purple')).add_to(map_)\n",
    "        #folium.Marker([lstad[0],lstad[1]], popup='Destination,Transport:auto',icon=folium.Icon(color='red')).add_to(map_)\n",
    "        folium.PolyLine(locations=[[auto_s[0],auto_s[1]],[lst[0],lst[1]]], color='purple').add_to(map_)\n",
    "        flag3=1\n",
    "    \n",
    "    dis_b=distance(bk_s[0],bk_s[1],lst[0],lst[1])\n",
    "    if dis_b and total_distance>dis_b:\n",
    "        folium.Marker([bk_s[0],bk_s[1]], popup='Pickup Location,Transport:bike',icon=folium.Icon(color='purple',icon_color='purple')).add_to(map_)\n",
    "        #folium.Marker([lstbd[0],lstbd[1]], popup='Destination,Transport:bike',icon=folium.Icon(color='red')).add_to(map_)\n",
    "        #folium.PolyLine(locations=[[bk_s[0],bk_s[1]],[lstbd[0],lstbd[1]]], color='green').add_to(map_)\n",
    "        flag4=1\n",
    "\n",
    "    \n",
    "    \n",
    "    #checking if distance travelled from source to destination is lesser than distance covered by metro stops than don't suggest metro\n",
    "    #Also the source ANd destination stops should not be same for metro\n",
    "    dis_m=distance(metro_s[0],metro_s[1],lstmd[0],lstmd[1])\n",
    "    if dis_m and total_distance>dis_m:\n",
    "        #plotting metro route on map\n",
    "        folium.Marker([metro_s[0],metro_s[1]], popup='Pickup Location,Transport:metro',icon=folium.Icon(color='purple',icon_color='purple')).add_to(map_)\n",
    "        folium.Marker([lstmd[0],lstmd[1]], popup='Destination,Transport:metro',icon=folium.Icon(color='red')).add_to(map_)\n",
    "        folium.PolyLine(locations=[[metro_s[0],metro_s[1]],[lstmd[0],lstmd[1]]], color='red').add_to(map_)\n",
    "\n",
    "        a=(lstmd[3])\n",
    "        b=(metro_s[3])\n",
    "        print(distance(lst[0],lst[1],start[0],start[1]))\n",
    "        fare=metro_Fares[a][b]\n",
    "        print(\"metro fare for travel : {}\".format(fare))\n",
    "        print('Schedule For Metro From Source to Destination\\n')\n",
    "        print('Arrival_Time\\tDeparture_Time\\tStop_sequence\\tDistance_Travelled')\n",
    "        for i, row in metro_Schedules.iterrows():\n",
    "            if metro_s[2]==row['stop_id']:\n",
    "                print(row['arrival_time'],'\\t',row['departure_time'],'\\t',row['stop_sequence'],'\\t\\t',row['dist_traveled (km)'])\n",
    "        print('*****************************************************************************************************************')\n",
    "        flag1=1\n",
    "\n",
    "\n",
    "\n",
    "\n",
    "    #checking if distance travelled from source to destination is lesser than distance covered by ferry stops than don't suggest ferry\n",
    "    #Also the source ANd destination stops should not be same for ferry\n",
    "    dis_f=distance(source_ferry[0],source_ferry[1],destination_ferry[0],destination_ferry[1])\n",
    "\n",
    "    if dis_f and total_distance>dis_f:\n",
    "        #plotting ferry route\n",
    "        folium.Marker([source_ferry[0],source_ferry[1]], popup='Pickup Location,Transport:Ferry',icon=folium.Icon(color='purple',icon_color='purple')).add_to(map_)\n",
    "        folium.Marker([destination_ferry[0],destination_ferry[1]], popup='Destination,Transport:Ferry',icon=folium.Icon(color='red')).add_to(map_)\n",
    "        folium.PolyLine(locations=[[source_ferry[0],source_ferry[1]],[destination_ferry[0],destination_ferry[1]]], color='black').add_to(map_)\n",
    "\n",
    "        \n",
    "        print('Schedule For ferry at source pickup location of ferry\\n')\n",
    "        print('Arrival_Time\\tDeparture_Time\\tStop_sequence')\n",
    "        for i, row in ferry_sched.iterrows():\n",
    "            if stop_id_s==row['stop_id']:\n",
    "                print(row['arrival_time'],'\\t',row['departure_time'],'\\t',row['stop_sequence'])\n",
    "        flag2=1\n",
    "        \n",
    "    \n",
    "    #find two min dist from source to pickup\n",
    "    min1=emission.index(min(emission))\n",
    "    val=emission[min1]\n",
    "    emission[min1]= 10000\n",
    "    min2=emission.index(min(emission))\n",
    "    emission[min1]=val\n",
    "    temp=0\n",
    "    if (abs(emission[min1]-emission[min2])<0.5):\n",
    "        a=max(min1,min2)\n",
    "        if a==3 and flag4:\n",
    "            print(\"sharing bicycle is best option to reach destination\")\n",
    "            temp=1\n",
    "        elif a==2 and flag1:\n",
    "            print(\"metro is best option to reach destination\")\n",
    "            temp=1\n",
    "        elif a==1 and flag2:\n",
    "            print(\"ferry is best option to reach destination\")\n",
    "            temp=1\n",
    "        elif flag3:\n",
    "            print(\"Auto is best option to reach destination\")\n",
    "            temp=1\n",
    "    else:\n",
    "        if min1==3:\n",
    "            print(\"sharing bicycle is best option to reach destination\")\n",
    "            temp=1\n",
    "        elif min1==2:\n",
    "            print(\"metro is best option to reach destination\")\n",
    "            temp=1\n",
    "        elif min1==1:\n",
    "            print(\"ferry is best option to reach destination\")\n",
    "            temp=1\n",
    "        else:\n",
    "            print(\"Auto is best option to reach destination\")\n",
    "            temp=1\n",
    "    if temp==0:\n",
    "        print(\"Walking is best option to reach destination\")\n",
    "            \n",
    "        \n",
    "\n",
    "    \n",
    "    \n",
    "folium.Marker(start, popup='source',icon=folium.Icon(color='green',icon_color='green')).add_to(map_)\n"
   ]
  },
  {
   "cell_type": "code",
   "execution_count": 31,
   "metadata": {},
   "outputs": [
    {
     "data": {
      "text/html": [
       "<div style=\"width:100%;\"><div style=\"position:relative;width:100%;height:0;padding-bottom:60%;\"><iframe src=\"data:text/html;charset=utf-8;base64,PCFET0NUWVBFIGh0bWw+CjxoZWFkPiAgICAKICAgIDxtZXRhIGh0dHAtZXF1aXY9ImNvbnRlbnQtdHlwZSIgY29udGVudD0idGV4dC9odG1sOyBjaGFyc2V0PVVURi04IiAvPgogICAgPHNjcmlwdD5MX1BSRUZFUl9DQU5WQVM9ZmFsc2U7IExfTk9fVE9VQ0g9ZmFsc2U7IExfRElTQUJMRV8zRD1mYWxzZTs8L3NjcmlwdD4KICAgIDxzY3JpcHQgc3JjPSJodHRwczovL2Nkbi5qc2RlbGl2ci5uZXQvbnBtL2xlYWZsZXRAMS4zLjQvZGlzdC9sZWFmbGV0LmpzIj48L3NjcmlwdD4KICAgIDxzY3JpcHQgc3JjPSJodHRwczovL2FqYXguZ29vZ2xlYXBpcy5jb20vYWpheC9saWJzL2pxdWVyeS8xLjExLjEvanF1ZXJ5Lm1pbi5qcyI+PC9zY3JpcHQ+CiAgICA8c2NyaXB0IHNyYz0iaHR0cHM6Ly9tYXhjZG4uYm9vdHN0cmFwY2RuLmNvbS9ib290c3RyYXAvMy4yLjAvanMvYm9vdHN0cmFwLm1pbi5qcyI+PC9zY3JpcHQ+CiAgICA8c2NyaXB0IHNyYz0iaHR0cHM6Ly9jZG5qcy5jbG91ZGZsYXJlLmNvbS9hamF4L2xpYnMvTGVhZmxldC5hd2Vzb21lLW1hcmtlcnMvMi4wLjIvbGVhZmxldC5hd2Vzb21lLW1hcmtlcnMuanMiPjwvc2NyaXB0PgogICAgPGxpbmsgcmVsPSJzdHlsZXNoZWV0IiBocmVmPSJodHRwczovL2Nkbi5qc2RlbGl2ci5uZXQvbnBtL2xlYWZsZXRAMS4zLjQvZGlzdC9sZWFmbGV0LmNzcyIvPgogICAgPGxpbmsgcmVsPSJzdHlsZXNoZWV0IiBocmVmPSJodHRwczovL21heGNkbi5ib290c3RyYXBjZG4uY29tL2Jvb3RzdHJhcC8zLjIuMC9jc3MvYm9vdHN0cmFwLm1pbi5jc3MiLz4KICAgIDxsaW5rIHJlbD0ic3R5bGVzaGVldCIgaHJlZj0iaHR0cHM6Ly9tYXhjZG4uYm9vdHN0cmFwY2RuLmNvbS9ib290c3RyYXAvMy4yLjAvY3NzL2Jvb3RzdHJhcC10aGVtZS5taW4uY3NzIi8+CiAgICA8bGluayByZWw9InN0eWxlc2hlZXQiIGhyZWY9Imh0dHBzOi8vbWF4Y2RuLmJvb3RzdHJhcGNkbi5jb20vZm9udC1hd2Vzb21lLzQuNi4zL2Nzcy9mb250LWF3ZXNvbWUubWluLmNzcyIvPgogICAgPGxpbmsgcmVsPSJzdHlsZXNoZWV0IiBocmVmPSJodHRwczovL2NkbmpzLmNsb3VkZmxhcmUuY29tL2FqYXgvbGlicy9MZWFmbGV0LmF3ZXNvbWUtbWFya2Vycy8yLjAuMi9sZWFmbGV0LmF3ZXNvbWUtbWFya2Vycy5jc3MiLz4KICAgIDxsaW5rIHJlbD0ic3R5bGVzaGVldCIgaHJlZj0iaHR0cHM6Ly9yYXdjZG4uZ2l0aGFjay5jb20vcHl0aG9uLXZpc3VhbGl6YXRpb24vZm9saXVtL21hc3Rlci9mb2xpdW0vdGVtcGxhdGVzL2xlYWZsZXQuYXdlc29tZS5yb3RhdGUuY3NzIi8+CiAgICA8c3R5bGU+aHRtbCwgYm9keSB7d2lkdGg6IDEwMCU7aGVpZ2h0OiAxMDAlO21hcmdpbjogMDtwYWRkaW5nOiAwO308L3N0eWxlPgogICAgPHN0eWxlPiNtYXAge3Bvc2l0aW9uOmFic29sdXRlO3RvcDowO2JvdHRvbTowO3JpZ2h0OjA7bGVmdDowO308L3N0eWxlPgogICAgCiAgICA8bWV0YSBuYW1lPSJ2aWV3cG9ydCIgY29udGVudD0id2lkdGg9ZGV2aWNlLXdpZHRoLAogICAgICAgIGluaXRpYWwtc2NhbGU9MS4wLCBtYXhpbXVtLXNjYWxlPTEuMCwgdXNlci1zY2FsYWJsZT1ubyIgLz4KICAgIDxzdHlsZT4jbWFwXzczMzI3OTg2NzJiYzRkNzU5ODAzZWFkMDRmODU5YjY0IHsKICAgICAgICBwb3NpdGlvbjogcmVsYXRpdmU7CiAgICAgICAgd2lkdGg6IDEwMC4wJTsKICAgICAgICBoZWlnaHQ6IDEwMC4wJTsKICAgICAgICBsZWZ0OiAwLjAlOwogICAgICAgIHRvcDogMC4wJTsKICAgICAgICB9CiAgICA8L3N0eWxlPgo8L2hlYWQ+Cjxib2R5PiAgICAKICAgIAogICAgPGRpdiBjbGFzcz0iZm9saXVtLW1hcCIgaWQ9Im1hcF83MzMyNzk4NjcyYmM0ZDc1OTgwM2VhZDA0Zjg1OWI2NCIgPjwvZGl2Pgo8L2JvZHk+CjxzY3JpcHQ+ICAgIAogICAgCiAgICAKICAgICAgICB2YXIgYm91bmRzID0gbnVsbDsKICAgIAoKICAgIHZhciBtYXBfNzMzMjc5ODY3MmJjNGQ3NTk4MDNlYWQwNGY4NTliNjQgPSBMLm1hcCgKICAgICAgICAnbWFwXzczMzI3OTg2NzJiYzRkNzU5ODAzZWFkMDRmODU5YjY0JywgewogICAgICAgIGNlbnRlcjogWzEwLjE1MzMzMjcyLCA3Ni4zODgxNjUxMTRdLAogICAgICAgIHpvb206IDExLAogICAgICAgIG1heEJvdW5kczogYm91bmRzLAogICAgICAgIGxheWVyczogW10sCiAgICAgICAgd29ybGRDb3B5SnVtcDogZmFsc2UsCiAgICAgICAgY3JzOiBMLkNSUy5FUFNHMzg1NywKICAgICAgICB6b29tQ29udHJvbDogdHJ1ZSwKICAgICAgICB9KTsKCiAgICAKICAgIAogICAgdmFyIHRpbGVfbGF5ZXJfOGQ0ZTNiYTRlZDJkNGZlZDg1NTNmZDU0NTU5NDE2NzYgPSBMLnRpbGVMYXllcigKICAgICAgICAnaHR0cHM6Ly97c30udGlsZS5vcGVuc3RyZWV0bWFwLm9yZy97en0ve3h9L3t5fS5wbmcnLAogICAgICAgIHsKICAgICAgICAiYXR0cmlidXRpb24iOiBudWxsLAogICAgICAgICJkZXRlY3RSZXRpbmEiOiBmYWxzZSwKICAgICAgICAibWF4TmF0aXZlWm9vbSI6IDE4LAogICAgICAgICJtYXhab29tIjogMTgsCiAgICAgICAgIm1pblpvb20iOiAwLAogICAgICAgICJub1dyYXAiOiBmYWxzZSwKICAgICAgICAib3BhY2l0eSI6IDEsCiAgICAgICAgInN1YmRvbWFpbnMiOiAiYWJjIiwKICAgICAgICAidG1zIjogZmFsc2UKfSkuYWRkVG8obWFwXzczMzI3OTg2NzJiYzRkNzU5ODAzZWFkMDRmODU5YjY0KTsKICAgIAogICAgICAgIHZhciBtYXJrZXJfYjM5MzkyNTIyNDM3NDI3MzgyMWJhZGMyNzQ0ZmZhMWQgPSBMLm1hcmtlcigKICAgICAgICAgICAgWzEwLjA4MTY1ODUwMDAwMDAwMSwgNzYuMzY0NDhdLAogICAgICAgICAgICB7CiAgICAgICAgICAgICAgICBpY29uOiBuZXcgTC5JY29uLkRlZmF1bHQoKQogICAgICAgICAgICAgICAgfQogICAgICAgICAgICApLmFkZFRvKG1hcF83MzMyNzk4NjcyYmM0ZDc1OTgwM2VhZDA0Zjg1OWI2NCk7CiAgICAgICAgCiAgICAKCiAgICAgICAgICAgICAgICB2YXIgaWNvbl9mYTgxMjY0OTdiZjQ0NGMxODZhZDdmMjg2OTk1ZDcwYSA9IEwuQXdlc29tZU1hcmtlcnMuaWNvbih7CiAgICAgICAgICAgICAgICAgICAgaWNvbjogJ2luZm8tc2lnbicsCiAgICAgICAgICAgICAgICAgICAgaWNvbkNvbG9yOiAnd2hpdGUnLAogICAgICAgICAgICAgICAgICAgIG1hcmtlckNvbG9yOiAnb3JhbmdlJywKICAgICAgICAgICAgICAgICAgICBwcmVmaXg6ICdnbHlwaGljb24nLAogICAgICAgICAgICAgICAgICAgIGV4dHJhQ2xhc3NlczogJ2ZhLXJvdGF0ZS0wJwogICAgICAgICAgICAgICAgICAgIH0pOwogICAgICAgICAgICAgICAgbWFya2VyX2IzOTM5MjUyMjQzNzQyNzM4MjFiYWRjMjc0NGZmYTFkLnNldEljb24oaWNvbl9mYTgxMjY0OTdiZjQ0NGMxODZhZDdmMjg2OTk1ZDcwYSk7CiAgICAgICAgICAgIAogICAgCiAgICAgICAgICAgIHZhciBwb3B1cF80MjM3NGJlMjY2MzI0YWI1YmY1MjU2ZThkMTZiYmRmYyA9IEwucG9wdXAoe21heFdpZHRoOiAnMzAwJwogICAgICAgICAgICAKICAgICAgICAgICAgfSk7CgogICAgICAgICAgICAKICAgICAgICAgICAgICAgIHZhciBodG1sX2ZhNDU3MzRiZGJkMjQzMmU5MjE4MTMzNDgyNDJiMzczID0gJChgPGRpdiBpZD0iaHRtbF9mYTQ1NzM0YmRiZDI0MzJlOTIxODEzMzQ4MjQyYjM3MyIgc3R5bGU9IndpZHRoOiAxMDAuMCU7IGhlaWdodDogMTAwLjAlOyI+RGVzdGluYXRpb248L2Rpdj5gKVswXTsKICAgICAgICAgICAgICAgIHBvcHVwXzQyMzc0YmUyNjYzMjRhYjViZjUyNTZlOGQxNmJiZGZjLnNldENvbnRlbnQoaHRtbF9mYTQ1NzM0YmRiZDI0MzJlOTIxODEzMzQ4MjQyYjM3Myk7CiAgICAgICAgICAgIAoKICAgICAgICAgICAgbWFya2VyX2IzOTM5MjUyMjQzNzQyNzM4MjFiYWRjMjc0NGZmYTFkLmJpbmRQb3B1cChwb3B1cF80MjM3NGJlMjY2MzI0YWI1YmY1MjU2ZThkMTZiYmRmYykKICAgICAgICAgICAgOwoKICAgICAgICAgICAgCiAgICAgICAgCiAgICAKICAgICAgICB2YXIgbWFya2VyXzU1ZDk3YTUwZjRmMTQ5ZjQ5YTVjNTE5YWVjNGNhYjY1ID0gTC5tYXJrZXIoCiAgICAgICAgICAgIFsxMC4wOTUxLCA3Ni4zNDY2XSwKICAgICAgICAgICAgewogICAgICAgICAgICAgICAgaWNvbjogbmV3IEwuSWNvbi5EZWZhdWx0KCkKICAgICAgICAgICAgICAgIH0KICAgICAgICAgICAgKS5hZGRUbyhtYXBfNzMzMjc5ODY3MmJjNGQ3NTk4MDNlYWQwNGY4NTliNjQpOwogICAgICAgIAogICAgCgogICAgICAgICAgICAgICAgdmFyIGljb25fMmZlY2Q4MGFjMTY3NDZkMTgzYzE2OTJhZmU5OTk0YTggPSBMLkF3ZXNvbWVNYXJrZXJzLmljb24oewogICAgICAgICAgICAgICAgICAgIGljb246ICdpbmZvLXNpZ24nLAogICAgICAgICAgICAgICAgICAgIGljb25Db2xvcjogJ3B1cnBsZScsCiAgICAgICAgICAgICAgICAgICAgbWFya2VyQ29sb3I6ICdwdXJwbGUnLAogICAgICAgICAgICAgICAgICAgIHByZWZpeDogJ2dseXBoaWNvbicsCiAgICAgICAgICAgICAgICAgICAgZXh0cmFDbGFzc2VzOiAnZmEtcm90YXRlLTAnCiAgICAgICAgICAgICAgICAgICAgfSk7CiAgICAgICAgICAgICAgICBtYXJrZXJfNTVkOTdhNTBmNGYxNDlmNDlhNWM1MTlhZWM0Y2FiNjUuc2V0SWNvbihpY29uXzJmZWNkODBhYzE2NzQ2ZDE4M2MxNjkyYWZlOTk5NGE4KTsKICAgICAgICAgICAgCiAgICAKICAgICAgICAgICAgdmFyIHBvcHVwXzBiMjkwNzUzYzIyYzQ3NTk4MDJhNDc0NmMwYTJhYWEwID0gTC5wb3B1cCh7bWF4V2lkdGg6ICczMDAnCiAgICAgICAgICAgIAogICAgICAgICAgICB9KTsKCiAgICAgICAgICAgIAogICAgICAgICAgICAgICAgdmFyIGh0bWxfN2ZlZDhjNjMxMDBjNGJhYjlkYTI4NDdhYTczMjBkNDggPSAkKGA8ZGl2IGlkPSJodG1sXzdmZWQ4YzYzMTAwYzRiYWI5ZGEyODQ3YWE3MzIwZDQ4IiBzdHlsZT0id2lkdGg6IDEwMC4wJTsgaGVpZ2h0OiAxMDAuMCU7Ij5QaWNrdXAgTG9jYXRpb24sVHJhbnNwb3J0Om1ldHJvPC9kaXY+YClbMF07CiAgICAgICAgICAgICAgICBwb3B1cF8wYjI5MDc1M2MyMmM0NzU5ODAyYTQ3NDZjMGEyYWFhMC5zZXRDb250ZW50KGh0bWxfN2ZlZDhjNjMxMDBjNGJhYjlkYTI4NDdhYTczMjBkNDgpOwogICAgICAgICAgICAKCiAgICAgICAgICAgIG1hcmtlcl81NWQ5N2E1MGY0ZjE0OWY0OWE1YzUxOWFlYzRjYWI2NS5iaW5kUG9wdXAocG9wdXBfMGIyOTA3NTNjMjJjNDc1OTgwMmE0NzQ2YzBhMmFhYTApCiAgICAgICAgICAgIDsKCiAgICAgICAgICAgIAogICAgICAgIAogICAgCiAgICAgICAgdmFyIG1hcmtlcl81ZmExNmZlZmU3NjI0YTU2YmI5MGIwNDRlY2FiMTBkYyA9IEwubWFya2VyKAogICAgICAgICAgICBbMTAuMDg3MywgNzYuMzQyOF0sCiAgICAgICAgICAgIHsKICAgICAgICAgICAgICAgIGljb246IG5ldyBMLkljb24uRGVmYXVsdCgpCiAgICAgICAgICAgICAgICB9CiAgICAgICAgICAgICkuYWRkVG8obWFwXzczMzI3OTg2NzJiYzRkNzU5ODAzZWFkMDRmODU5YjY0KTsKICAgICAgICAKICAgIAoKICAgICAgICAgICAgICAgIHZhciBpY29uXzYwMTE1YjZiOGIyMDQ4ODliODdjZWFkMmFkZGNhYzkxID0gTC5Bd2Vzb21lTWFya2Vycy5pY29uKHsKICAgICAgICAgICAgICAgICAgICBpY29uOiAnaW5mby1zaWduJywKICAgICAgICAgICAgICAgICAgICBpY29uQ29sb3I6ICd3aGl0ZScsCiAgICAgICAgICAgICAgICAgICAgbWFya2VyQ29sb3I6ICdyZWQnLAogICAgICAgICAgICAgICAgICAgIHByZWZpeDogJ2dseXBoaWNvbicsCiAgICAgICAgICAgICAgICAgICAgZXh0cmFDbGFzc2VzOiAnZmEtcm90YXRlLTAnCiAgICAgICAgICAgICAgICAgICAgfSk7CiAgICAgICAgICAgICAgICBtYXJrZXJfNWZhMTZmZWZlNzYyNGE1NmJiOTBiMDQ0ZWNhYjEwZGMuc2V0SWNvbihpY29uXzYwMTE1YjZiOGIyMDQ4ODliODdjZWFkMmFkZGNhYzkxKTsKICAgICAgICAgICAgCiAgICAKICAgICAgICAgICAgdmFyIHBvcHVwX2NkYzM5NGM3ODQwOTQwMzliNDJkMDQzNWViYzAyMzgyID0gTC5wb3B1cCh7bWF4V2lkdGg6ICczMDAnCiAgICAgICAgICAgIAogICAgICAgICAgICB9KTsKCiAgICAgICAgICAgIAogICAgICAgICAgICAgICAgdmFyIGh0bWxfNmQxNjVjN2YxM2Q2NDgzYWE5YjM4NzFlYTc5NjgxNjUgPSAkKGA8ZGl2IGlkPSJodG1sXzZkMTY1YzdmMTNkNjQ4M2FhOWIzODcxZWE3OTY4MTY1IiBzdHlsZT0id2lkdGg6IDEwMC4wJTsgaGVpZ2h0OiAxMDAuMCU7Ij5EZXN0aW5hdGlvbixUcmFuc3BvcnQ6bWV0cm88L2Rpdj5gKVswXTsKICAgICAgICAgICAgICAgIHBvcHVwX2NkYzM5NGM3ODQwOTQwMzliNDJkMDQzNWViYzAyMzgyLnNldENvbnRlbnQoaHRtbF82ZDE2NWM3ZjEzZDY0ODNhYTliMzg3MWVhNzk2ODE2NSk7CiAgICAgICAgICAgIAoKICAgICAgICAgICAgbWFya2VyXzVmYTE2ZmVmZTc2MjRhNTZiYjkwYjA0NGVjYWIxMGRjLmJpbmRQb3B1cChwb3B1cF9jZGMzOTRjNzg0MDk0MDM5YjQyZDA0MzVlYmMwMjM4MikKICAgICAgICAgICAgOwoKICAgICAgICAgICAgCiAgICAgICAgCiAgICAKICAgICAgICAgICAgICAgIHZhciBwb2x5X2xpbmVfNjg3NTMwNTM5YmE5NDg2OGEyYWQxZTBjODhlNTI0ZTEgPSBMLnBvbHlsaW5lKAogICAgICAgICAgICAgICAgICAgIFtbMTAuMDk1MSwgNzYuMzQ2Nl0sIFsxMC4wODczLCA3Ni4zNDI4XV0sCiAgICAgICAgICAgICAgICAgICAgewogICJidWJibGluZ01vdXNlRXZlbnRzIjogdHJ1ZSwKICAiY29sb3IiOiAicmVkIiwKICAiZGFzaEFycmF5IjogbnVsbCwKICAiZGFzaE9mZnNldCI6IG51bGwsCiAgImZpbGwiOiBmYWxzZSwKICAiZmlsbENvbG9yIjogInJlZCIsCiAgImZpbGxPcGFjaXR5IjogMC4yLAogICJmaWxsUnVsZSI6ICJldmVub2RkIiwKICAibGluZUNhcCI6ICJyb3VuZCIsCiAgImxpbmVKb2luIjogInJvdW5kIiwKICAibm9DbGlwIjogZmFsc2UsCiAgIm9wYWNpdHkiOiAxLjAsCiAgInNtb290aEZhY3RvciI6IDEuMCwKICAic3Ryb2tlIjogdHJ1ZSwKICAid2VpZ2h0IjogMwp9CiAgICAgICAgICAgICAgICAgICAgKQogICAgICAgICAgICAgICAgICAgIC5hZGRUbyhtYXBfNzMzMjc5ODY3MmJjNGQ3NTk4MDNlYWQwNGY4NTliNjQpOwogICAgICAgICAgICAKICAgIAogICAgICAgIHZhciBtYXJrZXJfMmI0OGJlM2QxMjA4NDEwOTkyYmVkZWY3NmRhMWVhYWIgPSBMLm1hcmtlcigKICAgICAgICAgICAgWzEwLjA5MjQ1NjEsIDc2LjM3MTEyMzRdLAogICAgICAgICAgICB7CiAgICAgICAgICAgICAgICBpY29uOiBuZXcgTC5JY29uLkRlZmF1bHQoKQogICAgICAgICAgICAgICAgfQogICAgICAgICAgICApLmFkZFRvKG1hcF83MzMyNzk4NjcyYmM0ZDc1OTgwM2VhZDA0Zjg1OWI2NCk7CiAgICAgICAgCiAgICAKCiAgICAgICAgICAgICAgICB2YXIgaWNvbl81YTViZjA2YTA0YTM0MGVjYmVjNjk4MWM5OTVmNzdlMSA9IEwuQXdlc29tZU1hcmtlcnMuaWNvbih7CiAgICAgICAgICAgICAgICAgICAgaWNvbjogJ2luZm8tc2lnbicsCiAgICAgICAgICAgICAgICAgICAgaWNvbkNvbG9yOiAnZ3JlZW4nLAogICAgICAgICAgICAgICAgICAgIG1hcmtlckNvbG9yOiAnZ3JlZW4nLAogICAgICAgICAgICAgICAgICAgIHByZWZpeDogJ2dseXBoaWNvbicsCiAgICAgICAgICAgICAgICAgICAgZXh0cmFDbGFzc2VzOiAnZmEtcm90YXRlLTAnCiAgICAgICAgICAgICAgICAgICAgfSk7CiAgICAgICAgICAgICAgICBtYXJrZXJfMmI0OGJlM2QxMjA4NDEwOTkyYmVkZWY3NmRhMWVhYWIuc2V0SWNvbihpY29uXzVhNWJmMDZhMDRhMzQwZWNiZWM2OTgxYzk5NWY3N2UxKTsKICAgICAgICAgICAgCiAgICAKICAgICAgICAgICAgdmFyIHBvcHVwXzE5Njc2ZDU2ZmE5YTRlMDhiNDQwNWZiYWY0M2Q3NGExID0gTC5wb3B1cCh7bWF4V2lkdGg6ICczMDAnCiAgICAgICAgICAgIAogICAgICAgICAgICB9KTsKCiAgICAgICAgICAgIAogICAgICAgICAgICAgICAgdmFyIGh0bWxfYjI3NjlmMDk5NTdmNGRlNGEwOTUzZDc5MGYyZmJhOGMgPSAkKGA8ZGl2IGlkPSJodG1sX2IyNzY5ZjA5OTU3ZjRkZTRhMDk1M2Q3OTBmMmZiYThjIiBzdHlsZT0id2lkdGg6IDEwMC4wJTsgaGVpZ2h0OiAxMDAuMCU7Ij5zb3VyY2U8L2Rpdj5gKVswXTsKICAgICAgICAgICAgICAgIHBvcHVwXzE5Njc2ZDU2ZmE5YTRlMDhiNDQwNWZiYWY0M2Q3NGExLnNldENvbnRlbnQoaHRtbF9iMjc2OWYwOTk1N2Y0ZGU0YTA5NTNkNzkwZjJmYmE4Yyk7CiAgICAgICAgICAgIAoKICAgICAgICAgICAgbWFya2VyXzJiNDhiZTNkMTIwODQxMDk5MmJlZGVmNzZkYTFlYWFiLmJpbmRQb3B1cChwb3B1cF8xOTY3NmQ1NmZhOWE0ZTA4YjQ0MDVmYmFmNDNkNzRhMSkKICAgICAgICAgICAgOwoKICAgICAgICAgICAgCiAgICAgICAgCjwvc2NyaXB0Pg==\" style=\"position:absolute;width:100%;height:100%;left:0;top:0;border:none !important;\" allowfullscreen webkitallowfullscreen mozallowfullscreen></iframe></div></div>"
      ],
      "text/plain": [
       "<folium.folium.Map at 0x21f566a7710>"
      ]
     },
     "execution_count": 31,
     "metadata": {},
     "output_type": "execute_result"
    }
   ],
   "source": [
    "\n",
    "#The purple path shows path of auto\n",
    "#The red path shows path of metro\n",
    "#The black path shows path of ferry\n",
    "\n",
    "######################################\n",
    "\n",
    "#GREEN marker shows the source\n",
    "#ORANGE marker shows the destination\n",
    "#Others show the pickup and drop location for different transport (each marker have its associated popup)\n",
    "\n",
    "\n",
    "\n",
    "#only optimal mode of transport is suggested and feasible mode of transports are plotted on map\n",
    "map_"
   ]
  },
  {
   "cell_type": "code",
   "execution_count": null,
   "metadata": {
    "collapsed": true
   },
   "outputs": [],
   "source": []
  },
  {
   "cell_type": "code",
   "execution_count": null,
   "metadata": {
    "collapsed": true
   },
   "outputs": [],
   "source": []
  },
  {
   "cell_type": "code",
   "execution_count": null,
   "metadata": {
    "collapsed": true
   },
   "outputs": [],
   "source": []
  },
  {
   "cell_type": "code",
   "execution_count": null,
   "metadata": {
    "collapsed": true
   },
   "outputs": [],
   "source": []
  }
 ],
 "metadata": {
  "kernelspec": {
   "display_name": "Python 3",
   "language": "python",
   "name": "python3"
  },
  "language_info": {
   "codemirror_mode": {
    "name": "ipython",
    "version": 3
   },
   "file_extension": ".py",
   "mimetype": "text/x-python",
   "name": "python",
   "nbconvert_exporter": "python",
   "pygments_lexer": "ipython3",
   "version": "3.6.3"
  }
 },
 "nbformat": 4,
 "nbformat_minor": 1
}
